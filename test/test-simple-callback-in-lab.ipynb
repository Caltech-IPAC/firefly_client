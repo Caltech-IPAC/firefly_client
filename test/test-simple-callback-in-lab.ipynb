{
 "cells": [
  {
   "cell_type": "code",
   "execution_count": null,
   "metadata": {},
   "outputs": [],
   "source": [
    "from firefly_client import FireflyClient"
   ]
  },
  {
   "cell_type": "code",
   "execution_count": null,
   "metadata": {},
   "outputs": [],
   "source": [
    "# This test can be modified to make multiple firefly_clients to prove there is only 1 per channel\n",
    "lsst_demo_host = 'https://lsst-demo.ncsa.illinois.edu/firefly'\n",
    "local_host = 'http://127.0.0.1:8080/firefly'\n",
    "irsa = 'http://irsa.ipac.caltech.edu'\n",
    "fd = 'https://fireflydev.ipac.caltech.edu/firefly'\n",
    "host = local_host\n",
    "#host = fd\n",
    "channel1 = 'channel-test-1'\n",
    "FireflyClient._debug = True\n",
    "fc1_c1 = FireflyClient.make_client(host, channel_override=channel1, launch_browser=False)\n",
    "fc1_c1.get_firefly_url()"
   ]
  },
  {
   "cell_type": "code",
   "execution_count": null,
   "metadata": {},
   "outputs": [],
   "source": [
    "fc1_c1.show_fits(url=\"http://web.ipac.caltech.edu.s3-us-west-2.amazonaws.com/staff/roby/demo/wise-00.fits\")"
   ]
  },
  {
   "cell_type": "code",
   "execution_count": null,
   "metadata": {},
   "outputs": [],
   "source": [
    "# Extensions can be made but there is not web socket connections until a listener is added\n",
    "\n",
    "fc1_c1.add_extension(ext_type='LINE_SELECT', title='a line')\n",
    "fc1_c1.add_extension(ext_type='AREA_SELECT', title='a area')\n",
    "fc1_c1.add_extension(ext_type='POINT', title='a point')"
   ]
  },
  {
   "cell_type": "code",
   "execution_count": null,
   "metadata": {},
   "outputs": [],
   "source": [
    "# A Web socket should not be made until this cell is added\n",
    "\n",
    "def listener1(ev):\n",
    "    if False:\n",
    "        print(ev)\n",
    "    if 'data' not in ev:\n",
    "        print('no data found in ev')\n",
    "        return\n",
    "    data = ev['data']\n",
    "    if 'payload' in data:\n",
    "        print(data['payload'])\n",
    "    if 'type' in data:\n",
    "        print(data['type'])\n",
    "        if data['type'] == 'POINT':\n",
    "            print('   image point: %s' % data['ipt'])\n",
    "            print('   world point: %s' % data['wpt'])\n",
    "        if data['type'] == 'LINE_SELECT' or data['type'] == 'AREA_SELECT':\n",
    "            print('   image points: %s to %s' % (data['ipt0'], data['ipt1']))\n",
    "            print('   world points: %s to %s' % (data['wpt0'], data['wpt1']))\n",
    "\n",
    "\n",
    "    \n",
    "fc1_c1.add_listener(listener1)"
   ]
  },
  {
   "cell_type": "code",
   "execution_count": null,
   "metadata": {},
   "outputs": [],
   "source": []
  }
 ],
 "metadata": {
  "kernelspec": {
   "display_name": "Python 3",
   "language": "python",
   "name": "python3"
  },
  "language_info": {
   "codemirror_mode": {
    "name": "ipython",
    "version": 3
   },
   "file_extension": ".py",
   "mimetype": "text/x-python",
   "name": "python",
   "nbconvert_exporter": "python",
   "pygments_lexer": "ipython3",
   "version": "3.6.9"
  }
 },
 "nbformat": 4,
 "nbformat_minor": 4
}
