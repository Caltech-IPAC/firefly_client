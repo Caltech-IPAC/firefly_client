{
 "cells": [
  {
   "cell_type": "code",
   "execution_count": 2,
   "metadata": {},
   "outputs": [],
   "source": [
    "from firefly_client import FireflyClient"
   ]
  },
  {
   "cell_type": "code",
   "execution_count": 5,
   "metadata": {},
   "outputs": [
    {
     "name": "stdout",
     "output_type": "stream",
     "text": [
      "new instance: http://127.0.0.1:8080/firefly\n"
     ]
    },
    {
     "data": {
      "text/plain": [
       "'http://127.0.0.1:8080/firefly/?__wsch=channel-test-1'"
      ]
     },
     "execution_count": 5,
     "metadata": {},
     "output_type": "execute_result"
    }
   ],
   "source": [
    "# This test can be modified to make multiple firefly_clients to prove there is only 1 per channel\n",
    "lsst_demo_host = 'https://lsst-demo.ncsa.illinois.edu/firefly'\n",
    "local_host = 'http://127.0.0.1:8080/firefly'\n",
    "irsa = 'http://irsa.ipac.caltech.edu'\n",
    "fd = 'https://fireflydev.ipac.caltech.edu/firefly'\n",
    "host = local_host\n",
    "#host = fd\n",
    "channel1 = 'channel-test-1'\n",
    "FireflyClient._debug = True\n",
    "fc1_c1 = FireflyClient.make_client(host, channel_override=channel1, launch_browser=False)\n",
    "fc1_c1.get_firefly_url()"
   ]
  },
  {
   "cell_type": "code",
   "execution_count": 19,
   "metadata": {},
   "outputs": [
    {
     "data": {
      "text/plain": [
       "{'success': True}"
      ]
     },
     "execution_count": 19,
     "metadata": {},
     "output_type": "execute_result"
    }
   ],
   "source": [
    "fc1_c1.show_fits(url=\"http://web.ipac.caltech.edu.s3-us-west-2.amazonaws.com/staff/roby/demo/wise-00.fits\")"
   ]
  },
  {
   "cell_type": "code",
   "execution_count": 22,
   "metadata": {},
   "outputs": [
    {
     "data": {
      "text/plain": [
       "{'success': True}"
      ]
     },
     "execution_count": 22,
     "metadata": {},
     "output_type": "execute_result"
    }
   ],
   "source": [
    "# Extensions can be made but there is not web socket connections until a listener is added\n",
    "\n",
    "fc1_c1.add_extension(ext_type='LINE_SELECT', title='a line')\n",
    "fc1_c1.add_extension(ext_type='AREA_SELECT', title='a area')\n",
    "fc1_c1.add_extension(ext_type='POINT', title='a point')"
   ]
  },
  {
   "cell_type": "code",
   "execution_count": 6,
   "metadata": {},
   "outputs": [
    {
     "name": "stdout",
     "output_type": "stream",
     "text": [
      "get channel and calling do_add_listener channel-test-1\n",
      "adding listener to channel-test-1, ws://127.0.0.1:8080/firefly/sticky/firefly/events?channelID=channel-test-1\n",
      "__handle_event: REPORT_USER_ACTION\n",
      "{'data': {'plotId': 'defaultPlotId-1', 'wpt': '202.61265160999017;47.309568861703745;EQ_J2000', 'id': 'Extension-3', 'type': 'POINT', 'ipt': '-11.188491201723878;224.73439125071843', 'plotState': {'ctxStr': 'firefly-geni-6-3', 'zoomLevel': 3.4618645, 'multiImage': 'USE_ALL', 'bandStateAry': [{'workingFitsFileStr': '${cache-dir}/URL-web--926467734-staffrobydemowise-00.fits.fits', 'directFileAccessData': {'dataOffset': 5760, 'bscale': 1, 'naxis1': 222, 'cdelt2': 0.0003819444391411, 'naxis2': 236, 'bzero': 0, 'planeNumber': 0, 'bitpix': '-32', 'blank_value': None}, 'plotRequestSerialize': 'id=ID_NOT_DEFINED&ColorTable=1&ProgressKey=plotRequestKey-0-1614885341257&RequestClass=WebPlotRequest&URL=http://web.ipac.caltech.edu.s3-us-west-2.amazonaws.com/staff/roby/demo/wise-00.fits&ZoomToHeight=817&ZoomToWidth=1472', 'rangeValuesSerialize': '88,1.0,88,99.0,NaN,2.0,44,25,600,120,0,NaN,1.0'}], 'colorTableId': 1}}, 'scope': 'CHANNEL', 'dataType': 'JSON', 'name': 'REPORT_USER_ACTION'}\n",
      "\n",
      "All Listeners for channel: channel-test-1, location: 127.0.0.1:8080/firefly\n",
      "          ['ALL_EVENTS_ENABLED']\n",
      "          ['ALL_EVENTS_ENABLED']\n",
      "callback: REPORT_USER_ACTION\n",
      "POINT\n",
      "   image point: -11.188491201723878;224.73439125071843\n",
      "   world point: 202.61265160999017;47.309568861703745;EQ_J2000\n",
      "callback: REPORT_USER_ACTION\n",
      "POINT\n",
      "   image point: -11.188491201723878;224.73439125071843\n",
      "   world point: 202.61265160999017;47.309568861703745;EQ_J2000\n"
     ]
    }
   ],
   "source": [
    "# A Web socket should not be made until this cell is added\n",
    "\n",
    "def listener1(ev):\n",
    "    if False:\n",
    "        print(ev)\n",
    "    if 'data' not in ev:\n",
    "        print('no data found in ev')\n",
    "        return\n",
    "    data = ev['data']\n",
    "    if 'payload' in data:\n",
    "        print(data['payload'])\n",
    "    if 'type' in data:\n",
    "        print(data['type'])\n",
    "        if data['type'] == 'POINT':\n",
    "            print('   image point: %s' % data['ipt'])\n",
    "            print('   world point: %s' % data['wpt'])\n",
    "        if data['type'] == 'LINE_SELECT' or data['type'] == 'AREA_SELECT':\n",
    "            print('   image points: %s to %s' % (data['ipt0'], data['ipt1']))\n",
    "            print('   world points: %s to %s' % (data['wpt0'], data['wpt1']))\n",
    "\n",
    "\n",
    "    \n",
    "fc1_c1.add_listener(listener1)"
   ]
  },
  {
   "cell_type": "code",
   "execution_count": null,
   "metadata": {},
   "outputs": [],
   "source": []
  }
 ],
 "metadata": {
  "kernelspec": {
   "display_name": "Python 3",
   "language": "python",
   "name": "python3"
  },
  "language_info": {
   "codemirror_mode": {
    "name": "ipython",
    "version": 3
   },
   "file_extension": ".py",
   "mimetype": "text/x-python",
   "name": "python",
   "nbconvert_exporter": "python",
   "pygments_lexer": "ipython3",
   "version": "3.6.9"
  }
 },
 "nbformat": 4,
 "nbformat_minor": 4
}
