{
 "cells": [
  {
   "cell_type": "code",
   "execution_count": null,
   "metadata": {},
   "outputs": [],
   "source": [
    "from firefly_client import FireflyClient"
   ]
  },
  {
   "cell_type": "code",
   "execution_count": null,
   "metadata": {},
   "outputs": [],
   "source": [
    "# This test can be modified to make multiple firefly_clients to prove there is only 1 per channel\n",
    "\n",
    "# some host\n",
    "lsst_demo_host = 'https://lsst-demo.ncsa.illinois.edu/firefly'\n",
    "local_host = 'http://127.0.0.1:8080/firefly'\n",
    "irsa = 'https://irsa.ipac.caltech.edu/irsaviewer'\n",
    "fd = 'https://fireflydev.ipac.caltech.edu/firefly'\n",
    "\n",
    "#host = 'http://127.0.0.1:8080/suit'\n",
    "host = local_host\n",
    "channel1 = 'channel-test-1'\n",
    "FireflyClient._debug = False\n",
    "#fc = FireflyClient.make_client(host, channel_override=channel1, launch_browser=True)\n",
    "fc = FireflyClient.make_lab_client(start_browser_tab=False, start_tab=True, verbose=True )\n",
    "#fc = FireflyClient.make_lab_client(start_tab=False)\n",
    "fc.get_firefly_url()"
   ]
  },
  {
   "cell_type": "code",
   "execution_count": null,
   "metadata": {},
   "outputs": [],
   "source": [
    "fc.get_firefly_url()"
   ]
  },
  {
   "cell_type": "code",
   "execution_count": null,
   "metadata": {},
   "outputs": [],
   "source": [
    "fc.show_fits(url=\"http://web.ipac.caltech.edu.s3-us-west-2.amazonaws.com/staff/roby/demo/wise-00.fits\", plot_id='x2')"
   ]
  },
  {
   "cell_type": "code",
   "execution_count": null,
   "metadata": {},
   "outputs": [],
   "source": [
    "fc.set_stretch('x1', stype='zscale')"
   ]
  },
  {
   "cell_type": "code",
   "execution_count": null,
   "metadata": {},
   "outputs": [],
   "source": [
    "# Extensions can be made but there is not web socket connections until a listener is added\n",
    "\n",
    "fc.add_extension(ext_type='LINE_SELECT', title='a line', shortcut_key='meta-e')\n",
    "fc.add_extension(ext_type='AREA_SELECT', title='a area')\n",
    "fc.add_extension(ext_type='POINT', title='a point')"
   ]
  },
  {
   "cell_type": "code",
   "execution_count": null,
   "metadata": {},
   "outputs": [],
   "source": [
    "# A Web socket should not be made until this cell is added\n",
    "\n",
    "def listener1(ev):\n",
    "    if False:\n",
    "        print(ev)\n",
    "    if 'data' not in ev:\n",
    "        print('no data found in ev')\n",
    "        return\n",
    "    data = ev['data']\n",
    "    if 'payload' in data:\n",
    "        print(data['payload'])\n",
    "    if 'type' in data:\n",
    "        print(data['type'])\n",
    "        if data['type'] == 'POINT':\n",
    "            print('   image point: %s' % data['ipt'])\n",
    "            print('   world point: %s' % data['wpt'])\n",
    "        if data['type'] == 'LINE_SELECT' or data['type'] == 'AREA_SELECT':\n",
    "            print('   image points: %s to %s' % (data['ipt0'], data['ipt1']))\n",
    "            print('   world points: %s to %s' % (data['wpt0'], data['wpt1']))\n",
    "\n",
    "\n",
    "    \n",
    "fc.add_listener(listener1)"
   ]
  },
  {
   "cell_type": "code",
   "execution_count": null,
   "metadata": {},
   "outputs": [],
   "source": [
    "from firefly_client import __version__ as v\n",
    "v"
   ]
  },
  {
   "cell_type": "code",
   "execution_count": null,
   "metadata": {},
   "outputs": [],
   "source": []
  }
 ],
 "metadata": {
  "kernelspec": {
   "display_name": "Python 3",
   "language": "python",
   "name": "python3"
  },
  "language_info": {
   "codemirror_mode": {
    "name": "ipython",
    "version": 3
   },
   "file_extension": ".py",
   "mimetype": "text/x-python",
   "name": "python",
   "nbconvert_exporter": "python",
   "pygments_lexer": "ipython3",
   "version": "3.6.9"
  }
 },
 "nbformat": 4,
 "nbformat_minor": 4
}
