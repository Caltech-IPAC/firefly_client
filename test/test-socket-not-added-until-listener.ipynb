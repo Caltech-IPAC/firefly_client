{
 "cells": [
  {
   "cell_type": "code",
   "execution_count": 1,
   "metadata": {},
   "outputs": [],
   "source": [
    "from firefly_client import FireflyClient\n",
    "#import astropy.utils.data"
   ]
  },
  {
   "cell_type": "code",
   "execution_count": 2,
   "metadata": {},
   "outputs": [],
   "source": [
    "# This test can be modified to make multiple firefly_clients to prove there is only 1 per channel\n",
    "lsst_demo_host = 'https://lsst-demo.ncsa.illinois.edu/firefly'\n",
    "local_host = 'http://127.0.0.1:8080/firefly'\n",
    "host = local_host\n",
    "channel1 = 'channel-test-1'\n",
    "channel2 = 'channel-test-2'\n",
    "channel3 = 'channel-test-3'\n",
    "\n",
    "fc1_c1 = FireflyClient.make_client(host, channel_override=channel1, launch_browser=True)\n"
   ]
  },
  {
   "cell_type": "code",
   "execution_count": 3,
   "metadata": {},
   "outputs": [
    {
     "data": {
      "text/plain": [
       "{'success': True}"
      ]
     },
     "execution_count": 3,
     "metadata": {},
     "output_type": "execute_result"
    }
   ],
   "source": [
    "\n",
    "fc1_c1.show_fits(url=\"http://web.ipac.caltech.edu.s3-us-west-2.amazonaws.com/staff/roby/demo/wise-00.fits\")"
   ]
  },
  {
   "cell_type": "code",
   "execution_count": 4,
   "metadata": {},
   "outputs": [
    {
     "data": {
      "text/plain": [
       "{'success': True}"
      ]
     },
     "execution_count": 4,
     "metadata": {},
     "output_type": "execute_result"
    }
   ],
   "source": [
    "# Extensions can be made but there is not web socket connections until a listener is added\n",
    "\n",
    "fc1_c1.add_extension(ext_type='LINE_SELECT', title='a line')\n",
    "fc1_c1.add_extension(ext_type='AREA_SELECT', title='a area')\n",
    "fc1_c1.add_extension(ext_type='POINT', title='a point')"
   ]
  },
  {
   "cell_type": "code",
   "execution_count": 5,
   "metadata": {},
   "outputs": [
    {
     "name": "stdout",
     "output_type": "stream",
     "text": [
      "l1\n",
      "{'data': {'payload': {'channel-test-1': ['1e', '2b', '2d']}, 'type': 'app_data.wsConnUpdated'}, 'scope': 'SELF', 'dataType': 'JSON', 'name': 'FLUX_ACTION', 'from': '-1'}\n"
     ]
    }
   ],
   "source": [
    "# A Web socket should not be made until this cell is added\n",
    "\n",
    "def listener1(ev):\n",
    "    print('l1')\n",
    "    print(ev)\n",
    "    \n",
    "fc1_c1.add_listener(listener1)"
   ]
  },
  {
   "cell_type": "code",
   "execution_count": 6,
   "metadata": {},
   "outputs": [],
   "source": [
    "# does not close the web socket, since it might be shared\n",
    "fc1_c1.remove_listener(listener1)"
   ]
  },
  {
   "cell_type": "code",
   "execution_count": 7,
   "metadata": {},
   "outputs": [],
   "source": [
    "# this will actually disconnect the web socket, any other client in this python instance will lose their connection as well\n",
    "fc1_c1.disconnect()"
   ]
  },
  {
   "cell_type": "code",
   "execution_count": null,
   "metadata": {},
   "outputs": [],
   "source": []
  }
 ],
 "metadata": {
  "kernelspec": {
   "display_name": "Python 3",
   "language": "python",
   "name": "python3"
  },
  "language_info": {
   "codemirror_mode": {
    "name": "ipython",
    "version": 3
   },
   "file_extension": ".py",
   "mimetype": "text/x-python",
   "name": "python",
   "nbconvert_exporter": "python",
   "pygments_lexer": "ipython3",
   "version": "3.6.9"
  }
 },
 "nbformat": 4,
 "nbformat_minor": 4
}
