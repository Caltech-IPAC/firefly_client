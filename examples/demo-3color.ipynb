{
 "cells": [
  {
   "cell_type": "code",
   "execution_count": 1,
   "metadata": {},
   "outputs": [],
   "source": [
    "from firefly_client import FireflyClient\n",
    "using_lab = False\n",
    "#url='https://irsa.ipac.caltech.edu/irsaviewer'\n",
    "url = 'http://127.0.0.1:8080/firefly'\n",
    "#FireflyClient._debug= True"
   ]
  },
  {
   "cell_type": "code",
   "execution_count": 2,
   "metadata": {},
   "outputs": [],
   "source": [
    "fc = FireflyClient.make_lab_client() if using_lab else FireflyClient.make_client(url)"
   ]
  },
  {
   "cell_type": "code",
   "execution_count": 3,
   "metadata": {},
   "outputs": [],
   "source": [
    "# Add a three color fits\n",
    "# in cell 0, 0, 1, 1\n",
    "target = '210.80227;54.34895;EQ_J2000' #Galaxy M101\n",
    "viewer_id = '3C'\n",
    "r = fc.add_cell(0, 0, 1, 1, 'images', viewer_id)\n",
    "rv = '92,-2,92,8,NaN,2,44,25,600,120'\n",
    "if r['success']:\n",
    "    threeC= [\n",
    "         {\n",
    "             'Type'      : 'SERVICE',\n",
    "             'Service'   : 'WISE',\n",
    "             'Title'     : '3 color',\n",
    "             'SurveyKey'  : '3a',\n",
    "             'SurveyKeyBand': '3',\n",
    "             'WorldPt'    : target,\n",
    "             'RangeValues': rv,\n",
    "             'SizeInDeg'  : '.14'\n",
    "         },\n",
    "         {\n",
    "             'Type'      : 'SERVICE',\n",
    "             'Service'   : 'WISE',\n",
    "             'Title'     : '3 color',\n",
    "             'SurveyKey'  : '3a',\n",
    "             'SurveyKeyBand': '2',\n",
    "             'WorldPt'    : target,\n",
    "             'RangeValues': rv,\n",
    "             'SizeInDeg'  : '.14'\n",
    "         },\n",
    "         {\n",
    "             'Type'      : 'SERVICE',\n",
    "             'Service'   : 'WISE',\n",
    "             'Title'     : '3 color',\n",
    "             'SurveyKey'  : '3a',\n",
    "             'SurveyKeyBand': '1',\n",
    "             'WorldPt'    : target,\n",
    "             'RangeValues': rv,\n",
    "             'SizeInDeg'  : '.14'\n",
    "         }]\n",
    "        \n",
    "    fc.show_fits_3color(threeC, plot_id='wise_m101', viewer_id=viewer_id)"
   ]
  },
  {
   "cell_type": "code",
   "execution_count": 3,
   "metadata": {},
   "outputs": [
    {
     "data": {
      "text/plain": [
       "{'success': True,\n",
       " 'rv_lst': ['88,1.000000,88,99.000000,4.200000,2.000000,50,25,600,120,1,NaN,0.150000',\n",
       "  '88,1.000000,88,99.000000,4.200000,2.000000,50,25,600,120,1,NaN,1.000000',\n",
       "  '88,1.000000,88,99.000000,4.200000,2.000000,50,25,600,120,1,NaN,0.400000']}"
      ]
     },
     "execution_count": 3,
     "metadata": {},
     "output_type": "execute_result"
    }
   ],
   "source": [
    "# Set stretch using hue-preserving algorithm with scaling coefficients .15 for RED, 1.0 for GREEN, and .4 for BLUE.\n",
    "fc.set_stretch_hprgb(plot_id='wise_m101', asinh_q_value=4.2, scaling_k=[.15,1,.4])"
   ]
  },
  {
   "cell_type": "code",
   "execution_count": 4,
   "metadata": {},
   "outputs": [
    {
     "data": {
      "text/plain": [
       "{'success': True,\n",
       " 'rv_string': '88,1.000000,88,99.000000,NaN,2.000000,50,25,600,120,0,NaN,1.000000'}"
      ]
     },
     "execution_count": 4,
     "metadata": {},
     "output_type": "execute_result"
    }
   ],
   "source": [
    "# Set per-band stretch\n",
    "fc.set_stretch(plot_id='wise_m101', stype='ztype', algorithm='asinh', band='ALL')"
   ]
  },
  {
   "cell_type": "code",
   "execution_count": 5,
   "metadata": {},
   "outputs": [
    {
     "data": {
      "text/plain": [
       "{'success': True}"
      ]
     },
     "execution_count": 5,
     "metadata": {},
     "output_type": "execute_result"
    }
   ],
   "source": [
    "# Set contrast and bias for each band\n",
    "fc.set_rgb_colors(plot_id='wise_m101', bias=[0.4, 0.6, 0.5], contrast=[1.5, 1, 2]) "
   ]
  },
  {
   "cell_type": "code",
   "execution_count": 6,
   "metadata": {},
   "outputs": [
    {
     "data": {
      "text/plain": [
       "{'success': True}"
      ]
     },
     "execution_count": 6,
     "metadata": {},
     "output_type": "execute_result"
    }
   ],
   "source": [
    "# Set to use red and blue band only, with default bias and contrast\n",
    "fc.set_rgb_colors(plot_id='wise_m101', use_green=False) "
   ]
  },
  {
   "cell_type": "code",
   "execution_count": null,
   "metadata": {},
   "outputs": [],
   "source": []
  }
 ],
 "metadata": {
  "kernelspec": {
   "display_name": "Python 3 (ipykernel)",
   "language": "python",
   "name": "python3"
  },
  "language_info": {
   "codemirror_mode": {
    "name": "ipython",
    "version": 3
   },
   "file_extension": ".py",
   "mimetype": "text/x-python",
   "name": "python",
   "nbconvert_exporter": "python",
   "pygments_lexer": "ipython3",
   "version": "3.10.12"
  }
 },
 "nbformat": 4,
 "nbformat_minor": 4
}
