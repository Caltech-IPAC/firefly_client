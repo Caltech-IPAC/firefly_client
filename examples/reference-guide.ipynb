{
 "cells": [
  {
   "cell_type": "markdown",
   "metadata": {},
   "source": [
    "# Reference Guide to Firefly Python Client API\n",
    "This notebook aims to give a high-level overview of the Firefly Python client API and important methods to get you started. For **full explanation** of each method and its parameter, check [FireflyClient API reference](https://caltech-ipac.github.io/firefly_client/api/firefly_client.FireflyClient.html).\n"
   ]
  },
  {
   "cell_type": "code",
   "execution_count": 40,
   "metadata": {},
   "outputs": [],
   "source": [
    "from firefly_client import FireflyClient\n",
    "\n",
    "# Following imports are just for example data fetching and processing\n",
    "from astropy.utils.data import download_file\n",
    "from astropy.io import fits\n",
    "import numpy as np\n",
    "import io"
   ]
  },
  {
   "cell_type": "markdown",
   "metadata": {},
   "source": [
    "## Initialize Firefly Client\n",
    "Firefly is a web application (with a URL) that can be controlled from Python with a `FireflyClient` object. \n",
    "\n",
    "To indicate which Firefly server to talk to from our Python client, we set the environment variable `FIREFLY_URL`. In this notebook, we use a public Firefly server: the IRSA Viewer (https://irsa.ipac.caltech.edu/irsaviewer). However, you can also run a local Firefly server via a [Firefly Docker image](https://hub.docker.com/r/ipac/firefly) and access it at `http://localhost:8080/firefly`.\n",
    "\n",
    "There are two ways to initialize `FireflyClient` from Python, depending on whether you're running the notebook in JupyterLab or not:\n",
    "\n",
    "### From Jupyter Lab\n",
    "Assuming you have `jupyter-firefly-extensions` set up in your environment as explained [here](https://github.com/Caltech-IPAC/jupyter_firefly_extensions/blob/master/README.md), you can use `make_lab_client()` in JupyterLab, which will open the Firefly viewer in a new tab within the Lab."
   ]
  },
  {
   "cell_type": "code",
   "execution_count": null,
   "metadata": {},
   "outputs": [],
   "source": [
    "# fc = FireflyClient.make_lab_client()"
   ]
  },
  {
   "cell_type": "markdown",
   "metadata": {},
   "source": [
    "### From Jupyter Notebook (or even a Python shell)\n",
    "You can use `make_client()` in a Jupyter Notebook (or even a Python shell), which will open the Firefly viewer in a new web browser tab. `make_client()` also allows you to pass the URL directly (other than through environment variable) as the `url` parameter."
   ]
  },
  {
   "cell_type": "code",
   "execution_count": 3,
   "metadata": {},
   "outputs": [],
   "source": [
    "# fc = FireflyClient.make_client() # URL is taken from FIREFLY_URL env variable\n",
    "\n",
    "# URL can be defined explicitly as a parameter\n",
    "fc = FireflyClient.make_client(url=\"https://irsa.ipac.caltech.edu/irsaviewer\")"
   ]
  },
  {
   "cell_type": "markdown",
   "metadata": {},
   "source": [
    "## [Optional] Reinitialize Firefly Client\n",
    "To clean the state of Firefly server (aka remove all displayed components and start fresh), you can reinitialise it. This is specifically helpful if a Python connection with server is already open and re-running `make_lab_client` (or `make_client`) leads to stale state."
   ]
  },
  {
   "cell_type": "code",
   "execution_count": 4,
   "metadata": {},
   "outputs": [
    {
     "data": {
      "text/plain": [
       "{'success': True}"
      ]
     },
     "execution_count": 4,
     "metadata": {},
     "output_type": "execute_result"
    }
   ],
   "source": [
    "fc.reinit_viewer()"
   ]
  },
  {
   "cell_type": "markdown",
   "metadata": {},
   "source": [
    "## Show FITS Image in Firefly\n",
    "\n",
    "Use the `show_fits_image` method of the FireflyClient object to display a FITS image. It can take a local file path, URL, or a file-like object as input via the `file_input` parameter."
   ]
  },
  {
   "cell_type": "markdown",
   "metadata": {},
   "source": [
    "### From a URL\n",
    "You can specify url of any FITS image. Here we use cutout of a WISE all-sky image:"
   ]
  },
  {
   "cell_type": "code",
   "execution_count": 6,
   "metadata": {},
   "outputs": [],
   "source": [
    "cutout_image_url = 'https://irsa.ipac.caltech.edu/ibe/data/wise/allsky/4band_p1bm_frm/6a/02206a/149/02206a149-w1-int-1b.fits?center=70,20&size=400pix'"
   ]
  },
  {
   "cell_type": "code",
   "execution_count": 7,
   "metadata": {},
   "outputs": [
    {
     "data": {
      "text/plain": [
       "{'success': True}"
      ]
     },
     "execution_count": 7,
     "metadata": {},
     "output_type": "execute_result"
    }
   ],
   "source": [
    "cutout_image_plot_id = 'wise-cutout'\n",
    "fc.show_fits_image(file_input=cutout_image_url,\n",
    "                   plot_id=cutout_image_plot_id,\n",
    "                   title='WISE Cutout')"
   ]
  },
  {
   "cell_type": "markdown",
   "metadata": {},
   "source": [
    "### From a local file\n",
    "You can specify path of any local FITS file. Here we download the full WISE all-sky image and use its file path:"
   ]
  },
  {
   "cell_type": "code",
   "execution_count": 8,
   "metadata": {},
   "outputs": [
    {
     "data": {
      "text/plain": [
       "'/Users/jsinghal/.astropy/cache/download/url/8d0c853f180330d78cea76026057a827/contents'"
      ]
     },
     "execution_count": 8,
     "metadata": {},
     "output_type": "execute_result"
    }
   ],
   "source": [
    "full_image_url = 'http://irsa.ipac.caltech.edu/ibe/data/wise/allsky/4band_p1bm_frm/6a/02206a/149/02206a149-w1-int-1b.fits'\n",
    "full_image_fpath = download_file(full_image_url, cache=True, timeout=120)\n",
    "full_image_fpath"
   ]
  },
  {
   "cell_type": "code",
   "execution_count": 9,
   "metadata": {},
   "outputs": [
    {
     "data": {
      "text/plain": [
       "{'success': True}"
      ]
     },
     "execution_count": 9,
     "metadata": {},
     "output_type": "execute_result"
    }
   ],
   "source": [
    "full_image_plot_id = 'wise-fullimage'\n",
    "fc.show_fits_image(file_input=full_image_fpath,\n",
    "                   plot_id=full_image_plot_id, # using a different plot id to not overwrite previous plot\n",
    "                   title='WISE Full Image')"
   ]
  },
  {
   "cell_type": "markdown",
   "metadata": {},
   "source": [
    "### From an in-memory file-like object\n",
    "You can also use a file-like object (e.g. `BytesIO` stream) instead of a local file path or URL. This is useful when you are working with a FITS file in memory and don't want to write it to disk. \n"
   ]
  },
  {
   "cell_type": "code",
   "execution_count": 41,
   "metadata": {},
   "outputs": [
    {
     "name": "stderr",
     "output_type": "stream",
     "text": [
      "/var/folders/v9/2dzh8dk57glf4lxq5vv50sdm0005p2/T/ipykernel_23034/1845551643.py:7: RuntimeWarning: invalid value encountered in sqrt\n",
      "  img_data = np.sqrt(img_data)\n"
     ]
    }
   ],
   "source": [
    "processed_fits = io.BytesIO()\n",
    "\n",
    "with fits.open(cutout_image_url) as hdul:\n",
    "    # Do some processing on FITS image data\n",
    "    img_data = hdul[0].data\n",
    "    img_data[:10, :] = img_data[-10:, :] = img_data[:, :10] = img_data[:, -10:] = np.nanmax(img_data)\n",
    "    img_data = np.sqrt(img_data)\n",
    "\n",
    "    new_hdu = fits.PrimaryHDU(data=img_data, header=hdul[0].header)\n",
    "    new_hdu.writeto(processed_fits, overwrite=True)\n",
    "    processed_fits.seek(0) # to bring reading pointer to the beginning of file"
   ]
  },
  {
   "cell_type": "code",
   "execution_count": 42,
   "metadata": {},
   "outputs": [
    {
     "data": {
      "text/plain": [
       "{'success': True}"
      ]
     },
     "execution_count": 42,
     "metadata": {},
     "output_type": "execute_result"
    }
   ],
   "source": [
    "fc.show_fits_image(file_input=processed_fits,\n",
    "                   plot_id='wise-processed',\n",
    "                   title='Processed WISE Cutout')"
   ]
  },
  {
   "cell_type": "markdown",
   "metadata": {},
   "source": [
    "## Modify the displayed image(s)\n",
    "### Panning to a coordinate\n",
    "To pan the full image to center on a cutout's center 70 +20 EQ-J2000:"
   ]
  },
  {
   "cell_type": "code",
   "execution_count": 43,
   "metadata": {},
   "outputs": [
    {
     "data": {
      "text/plain": [
       "{'success': True}"
      ]
     },
     "execution_count": 43,
     "metadata": {},
     "output_type": "execute_result"
    }
   ],
   "source": [
    "fc.set_pan(plot_id=full_image_plot_id, # note we use the plot id we defined above\n",
    "           x=70, y=20, coord='j2000')"
   ]
  },
  {
   "cell_type": "markdown",
   "metadata": {},
   "source": [
    "### Zooming\n",
    "To zoom into the full image by a factor of 2:"
   ]
  },
  {
   "cell_type": "code",
   "execution_count": 44,
   "metadata": {},
   "outputs": [
    {
     "data": {
      "text/plain": [
       "{'success': True}"
      ]
     },
     "execution_count": 44,
     "metadata": {},
     "output_type": "execute_result"
    }
   ],
   "source": [
    "fc.set_zoom(plot_id=full_image_plot_id, factor=2)"
   ]
  },
  {
   "cell_type": "markdown",
   "metadata": {},
   "source": [
    "### Aligning multiple images\n",
    "To align both full image and cutout image by WCS and to lock the WCS matching:"
   ]
  },
  {
   "cell_type": "code",
   "execution_count": 45,
   "metadata": {},
   "outputs": [
    {
     "data": {
      "text/plain": [
       "{'success': True}"
      ]
     },
     "execution_count": 45,
     "metadata": {},
     "output_type": "execute_result"
    }
   ],
   "source": [
    "fc.align_images(lock_match=True)"
   ]
  },
  {
   "cell_type": "markdown",
   "metadata": {},
   "source": [
    "### Changing the color stretch\n",
    "Set the stretch for the full image based on IRAF zscale interval with a linear algorithm:"
   ]
  },
  {
   "cell_type": "code",
   "execution_count": 46,
   "metadata": {},
   "outputs": [
    {
     "data": {
      "text/plain": [
       "{'success': True,\n",
       " 'rv_string': '91,1.000000,91,1.000000,NaN,2.000000,44,25,600,120,0,NaN,1.000000'}"
      ]
     },
     "execution_count": 46,
     "metadata": {},
     "output_type": "execute_result"
    }
   ],
   "source": [
    "fc.set_stretch(plot_id=full_image_plot_id, stype='zscale', algorithm='linear')"
   ]
  },
  {
   "cell_type": "markdown",
   "metadata": {},
   "source": [
    "## Show Table/Catalogs in Firefly\n",
    "\n",
    "Use the `show_table` method of the FireflyClient object to display a table/catalog. Similar to `show_fits_image`, it can take a local file path, URL, or a file-like object as input via the same `file_input` parameter.\n",
    "\n",
    "Here we use a 2MASS catalog (using IRSA VO TAP):"
   ]
  },
  {
   "cell_type": "code",
   "execution_count": 47,
   "metadata": {},
   "outputs": [],
   "source": [
    "table_url = \"http://irsa.ipac.caltech.edu/TAP/sync?FORMAT=IPAC_TABLE&QUERY=SELECT+*+FROM+fp_psc+WHERE+CONTAINS(POINT('J2000',ra,dec),CIRCLE('J2000',70.0,20.0,0.1))=1\""
   ]
  },
  {
   "cell_type": "code",
   "execution_count": 48,
   "metadata": {},
   "outputs": [
    {
     "data": {
      "text/plain": [
       "{'success': True}"
      ]
     },
     "execution_count": 48,
     "metadata": {},
     "output_type": "execute_result"
    }
   ],
   "source": [
    "table_id = '2mass-catalog'\n",
    "fc.show_table(file_input=table_url, # can also be a local file path or file-like object\n",
    "              tbl_id=table_id,\n",
    "              title='2MASS Catalog')"
   ]
  },
  {
   "cell_type": "markdown",
   "metadata": {},
   "source": [
    "Note: Displaying a catalog table also caused Firefly to overlay the image with markers by default. The markers can be visible on both \"wise-cutout\" and \"wise-fullimage\" since they would include the same field of view. Also we see the active chart and coverage tab as bonus!"
   ]
  },
  {
   "cell_type": "markdown",
   "metadata": {},
   "source": [
    "## Modify the displayed table\n"
   ]
  },
  {
   "cell_type": "markdown",
   "metadata": {},
   "source": [
    "### Sorting by a column\n",
    "You can sort the table by a column in ascending (ASC) or descending (DESC) order:"
   ]
  },
  {
   "cell_type": "code",
   "execution_count": 49,
   "metadata": {},
   "outputs": [
    {
     "data": {
      "text/plain": [
       "{'success': True}"
      ]
     },
     "execution_count": 49,
     "metadata": {},
     "output_type": "execute_result"
    }
   ],
   "source": [
    "fc.sort_table_column(tbl_id=table_id,\n",
    "                     column_name='j_m', sort_direction='ASC')"
   ]
  },
  {
   "cell_type": "markdown",
   "metadata": {},
   "source": [
    "### Filtering the rows\n",
    "Filters can be specified as an SQL WHERE clause-like string with column names quoted:"
   ]
  },
  {
   "cell_type": "code",
   "execution_count": 50,
   "metadata": {},
   "outputs": [
    {
     "data": {
      "text/plain": [
       "{'success': True}"
      ]
     },
     "execution_count": 50,
     "metadata": {},
     "output_type": "execute_result"
    }
   ],
   "source": [
    "fc.apply_table_filters(tbl_id=table_id, # note: we use the table id we defined above\n",
    "                       filters='\"j_m\">15 and \"j_m\"<16 and \"j_cmsig\"<0.06')"
   ]
  },
  {
   "cell_type": "markdown",
   "metadata": {},
   "source": [
    "To remove the filters:"
   ]
  },
  {
   "cell_type": "code",
   "execution_count": 51,
   "metadata": {},
   "outputs": [
    {
     "data": {
      "text/plain": [
       "{'success': True}"
      ]
     },
     "execution_count": 51,
     "metadata": {},
     "output_type": "execute_result"
    }
   ],
   "source": [
    "fc.apply_table_filters(tbl_id=table_id, filters='')"
   ]
  },
  {
   "cell_type": "markdown",
   "metadata": {},
   "source": [
    "## Plot Chart from the displayed table\n",
    "We can use the dispalyed table data to plot columns on X and Y axis:"
   ]
  },
  {
   "cell_type": "code",
   "execution_count": 52,
   "metadata": {},
   "outputs": [
    {
     "data": {
      "text/plain": [
       "{'success': True}"
      ]
     },
     "execution_count": 52,
     "metadata": {},
     "output_type": "execute_result"
    }
   ],
   "source": [
    "fc.show_xyplot(tbl_id=table_id, xCol='j_m', yCol='h_m-k_m')"
   ]
  },
  {
   "cell_type": "markdown",
   "metadata": {},
   "source": [
    "Alternatively, more generic method show_chart() can be used to create the same plot which accepts a lot of configuration parameters as [Plotly data structure](https://plotly.com/javascript/reference/index/):"
   ]
  },
  {
   "cell_type": "code",
   "execution_count": 53,
   "metadata": {},
   "outputs": [],
   "source": [
    "trace0 = {'tbl_id': table_id, 'x': \"tables::j_m\", 'y': \"tables::h_m-k_m\", \n",
    "          'type' : 'scatter', 'mode': 'markers',\n",
    "          'marker': dict(size=4, color='red', opacity=0.6)}\n",
    "layout = {'title': '2MASS color-mag',\n",
    "           'xaxis': dict(title='J'), 'yaxis': dict(title='H - K')}\n",
    "\n",
    "status = fc.show_chart(data=[trace0], layout=layout)"
   ]
  },
  {
   "cell_type": "markdown",
   "metadata": {},
   "source": [
    "## Plot Region overlays on the displayed image\n",
    "\n",
    "[ds9-style regions](https://ds9.si.edu/doc/ref/region.html) can be overlaid on the image displayed by Firefly:"
   ]
  },
  {
   "cell_type": "code",
   "execution_count": 57,
   "metadata": {},
   "outputs": [
    {
     "data": {
      "text/plain": [
       "{'success': True}"
      ]
     },
     "execution_count": 57,
     "metadata": {},
     "output_type": "execute_result"
    }
   ],
   "source": [
    "sources_box = \"icrs;box 70d 20d 12' 12' 0d\"\n",
    "image_regions_id = 'wise-regions'\n",
    "fc.overlay_region_layer(region_data=sources_box,\n",
    "                        title='WISE all-sky Annotations', \n",
    "                        region_layer_id=image_regions_id)"
   ]
  },
  {
   "cell_type": "markdown",
   "metadata": {},
   "source": [
    "Add region data to an existing region layer:"
   ]
  },
  {
   "cell_type": "code",
   "execution_count": 55,
   "metadata": {},
   "outputs": [
    {
     "data": {
      "text/plain": [
       "{'success': True}"
      ]
     },
     "execution_count": 55,
     "metadata": {},
     "output_type": "execute_result"
    }
   ],
   "source": [
    "ra, dec = 69.992614, 20.088488\n",
    "point_source = f'icrs;point {ra}d {dec}d # point=cross 25 text={{Source A}}'\n",
    "fc.add_region_data(region_data=point_source,\n",
    "                   region_layer_id=image_regions_id) # note: we use same region_layer_id"
   ]
  },
  {
   "cell_type": "markdown",
   "metadata": {},
   "source": [
    "To remove region layer:"
   ]
  },
  {
   "cell_type": "code",
   "execution_count": 59,
   "metadata": {},
   "outputs": [
    {
     "data": {
      "text/plain": [
       "{'success': True}"
      ]
     },
     "execution_count": 59,
     "metadata": {},
     "output_type": "execute_result"
    }
   ],
   "source": [
    "fc.delete_region_layer(image_regions_id)"
   ]
  },
  {
   "cell_type": "markdown",
   "metadata": {},
   "source": [
    "## Show HiPS image"
   ]
  },
  {
   "cell_type": "code",
   "execution_count": 60,
   "metadata": {},
   "outputs": [
    {
     "data": {
      "text/plain": [
       "{'success': True}"
      ]
     },
     "execution_count": 60,
     "metadata": {},
     "output_type": "execute_result"
    }
   ],
   "source": [
    "hips_url = 'http://alasky.u-strasbg.fr/DSS/DSSColor'\n",
    "hips_plot_id = 'hips-img-id'\n",
    "target = '70;20;EQ_J2000'\n",
    "\n",
    "fc.show_hips(plot_id=hips_plot_id, \n",
    "             hips_root_url=hips_url,\n",
    "             Title='HiPS-DSS', \n",
    "             WorldPt=target)"
   ]
  },
  {
   "cell_type": "markdown",
   "metadata": {},
   "source": [
    "## Show 3-color image"
   ]
  },
  {
   "cell_type": "code",
   "execution_count": 61,
   "metadata": {},
   "outputs": [],
   "source": [
    "# [W4, W2, W1] from WISE all-sky as [R, G, B] \n",
    "rgb_urls = ['https://irsa.ipac.caltech.edu/ibe/data/wise/allsky/4band_p3am_cdd/07/0704/0704p196_ab41/0704p196_ab41-w4-int-3.fits',\n",
    "            'https://irsa.ipac.caltech.edu/ibe/data/wise/allsky/4band_p3am_cdd/07/0704/0704p196_ab41/0704p196_ab41-w2-int-3.fits',\n",
    "            'https://irsa.ipac.caltech.edu/ibe/data/wise/allsky/4band_p3am_cdd/07/0704/0704p196_ab41/0704p196_ab41-w1-int-3.fits']"
   ]
  },
  {
   "cell_type": "code",
   "execution_count": 62,
   "metadata": {},
   "outputs": [
    {
     "data": {
      "text/plain": [
       "{'success': True}"
      ]
     },
     "execution_count": 62,
     "metadata": {},
     "output_type": "execute_result"
    }
   ],
   "source": [
    "three_color_params = [\n",
    "    {\n",
    "        'url': url,\n",
    "        'Title': \"3 color image\"\n",
    "    } for url in rgb_urls]\n",
    "\n",
    "fc.show_fits_3color(three_color_params=three_color_params,\n",
    "                    plot_id='3color-img')"
   ]
  },
  {
   "cell_type": "code",
   "execution_count": 63,
   "metadata": {},
   "outputs": [
    {
     "data": {
      "text/plain": [
       "{'success': True}"
      ]
     },
     "execution_count": 63,
     "metadata": {},
     "output_type": "execute_result"
    }
   ],
   "source": [
    "# Because we added more images, align and lock them by WCS again\n",
    "fc.align_images(lock_match=True)"
   ]
  },
  {
   "cell_type": "markdown",
   "metadata": {},
   "source": [
    "## Show any data file\n",
    "To explore any data file you have at hand without delving into image or table specific options, you can use the `show_data` method of the FireflyClient object."
   ]
  },
  {
   "cell_type": "markdown",
   "metadata": {},
   "source": [
    "### Preview metadata\n",
    "It's often useful to preview the metadata of a data file you have no information about. `preview_metadata` parameter allows you to do that:"
   ]
  },
  {
   "cell_type": "code",
   "execution_count": null,
   "metadata": {},
   "outputs": [],
   "source": [
    "some_fpath = '/Users/jsinghal/dev/cm/__test_data/MF.20210502.18830.fits'"
   ]
  },
  {
   "cell_type": "code",
   "execution_count": null,
   "metadata": {},
   "outputs": [
    {
     "data": {
      "text/plain": [
       "{'success': True}"
      ]
     },
     "metadata": {},
     "output_type": "display_data"
    }
   ],
   "source": [
    "fc.show_data(some_fpath, preview_metadata=True)"
   ]
  },
  {
   "cell_type": "markdown",
   "metadata": {},
   "source": [
    "This allows you to select which extensions/HDUs to load from a multi-extension FITS file. Same can be done for a VOTable with multiple tables."
   ]
  },
  {
   "cell_type": "markdown",
   "metadata": {},
   "source": [
    "### Directly view data"
   ]
  },
  {
   "cell_type": "code",
   "execution_count": null,
   "metadata": {},
   "outputs": [],
   "source": [
    "spectrum_file_url = 'http://irsa.ipac.caltech.edu/api/spectrumdm/convert/euclid/q1/SIR/102160339/EUC_SIR_W-COMBSPEC_102160339_2024-11-05T16:26:34.614296Z.fits?dataset_id=euclid_combspec&hdu=1644'"
   ]
  },
  {
   "cell_type": "code",
   "execution_count": null,
   "metadata": {},
   "outputs": [
    {
     "data": {
      "text/plain": [
       "{'success': True}"
      ]
     },
     "metadata": {},
     "output_type": "display_data"
    }
   ],
   "source": [
    "fc.show_data(spectrum_file_url, preview_metadata=False)"
   ]
  },
  {
   "cell_type": "markdown",
   "metadata": {},
   "source": [
    "Note that show_data is a recent addition to firefly_client and is still evolving. It doesn't allow as much customization as image/table specific methods yet, but it is a quick way to get a look at your data."
   ]
  }
 ],
 "metadata": {
  "kernelspec": {
   "display_name": "ffpy",
   "language": "python",
   "name": "python3"
  },
  "language_info": {
   "codemirror_mode": {
    "name": "ipython",
    "version": 3
   },
   "file_extension": ".py",
   "mimetype": "text/x-python",
   "name": "python",
   "nbconvert_exporter": "python",
   "pygments_lexer": "ipython3",
   "version": "3.12.5"
  }
 },
 "nbformat": 4,
 "nbformat_minor": 4
}
