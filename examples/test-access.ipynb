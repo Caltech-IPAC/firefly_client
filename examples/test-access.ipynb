{
 "cells": [
  {
   "cell_type": "markdown",
   "id": "b89ca528-303e-45a8-abe9-7eb93b0b6825",
   "metadata": {},
   "source": [
    "# Test accessing different Firefly servers"
   ]
  },
  {
   "cell_type": "code",
   "execution_count": 1,
   "id": "befc8619",
   "metadata": {},
   "outputs": [],
   "source": [
    "from firefly_client import FireflyClient\n",
    "import os"
   ]
  },
  {
   "cell_type": "code",
   "execution_count": 2,
   "id": "cf4a4e98",
   "metadata": {},
   "outputs": [],
   "source": [
    "# Uncomment for debugging outputs\n",
    "# FireflyClient._debug= True"
   ]
  },
  {
   "cell_type": "code",
   "execution_count": 3,
   "id": "38803c9f",
   "metadata": {},
   "outputs": [],
   "source": [
    "using_lab = False"
   ]
  },
  {
   "cell_type": "markdown",
   "id": "6c665c34",
   "metadata": {},
   "source": [
    "## Firefly server URL setup"
   ]
  },
  {
   "cell_type": "code",
   "execution_count": null,
   "id": "a4755749",
   "metadata": {},
   "outputs": [],
   "source": [
    "# Following only matters if using_lab=False. \n",
    "TEST_URL = {\n",
    "    'no-auth': 'https://irsa.ipac.caltech.edu/irsaviewer', # IRSAViewer\n",
    "    'invalid': 'https://irsa.ipac.caltech.edu/irsaviewerxx', # IRSAViewer with typo\n",
    "    'auth': 'https://data-int.lsst.cloud/portal/app/' # LSST Data Int Portal\n",
    "}\n",
    "\n",
    "url = TEST_URL['auth']"
   ]
  },
  {
   "cell_type": "markdown",
   "id": "7bc7498e",
   "metadata": {},
   "source": [
    "> ***IMPORTANT: If `using_lab=True`, one of the above test urls must be set in environment before starting the JupyterLab.***\n",
    "\n",
    "This will work out of the box on a science platform like RSP notebook aspect, where both url (and token if needed) are set in the environment."
   ]
  },
  {
   "cell_type": "code",
   "execution_count": null,
   "id": "d07c1bf2",
   "metadata": {},
   "outputs": [],
   "source": [
    "if using_lab: # since `url` is ignored in lab environment\n",
    "    # url comes from jupyter-firefly-extensions (set as 'fireflyURLLab'), \n",
    "    # which picks it from (in descending order of precedence):\n",
    "    # - environment variable 'FIREFLY_URL' \n",
    "    # - ~/.jupyter/jupyter_notebook_config.json\n",
    "    # - ~/.jupyter/jupyter_notebook_config.py\n",
    "    url = os.environ['fireflyURLLab']"
   ]
  },
  {
   "cell_type": "markdown",
   "id": "b78e3342",
   "metadata": {},
   "source": [
    "## No token"
   ]
  },
  {
   "cell_type": "code",
   "execution_count": 6,
   "id": "541d96b2",
   "metadata": {},
   "outputs": [
    {
     "data": {
      "text/plain": [
       "{'success': False, 'response': <Response [302]>}"
      ]
     },
     "execution_count": 6,
     "metadata": {},
     "output_type": "execute_result"
    }
   ],
   "source": [
    "FireflyClient.confirm_access(url)"
   ]
  },
  {
   "cell_type": "code",
   "execution_count": 7,
   "id": "0f1916a8",
   "metadata": {},
   "outputs": [
    {
     "ename": "ValueError",
     "evalue": "Connection failed to URL https://data-int.lsst.cloud/portal/app/ with status: 302\nYou may want to check the URL with your web browser.\n\nCheck if the Firefly URL is correct, which is passed as a parameter.\n\nIf an authorization token is required to access the above URL, the `token` parameter must be passed.",
     "output_type": "error",
     "traceback": [
      "\u001b[0;31m---------------------------------------------------------------------------\u001b[0m",
      "\u001b[0;31mValueError\u001b[0m                                Traceback (most recent call last)",
      "Cell \u001b[0;32mIn[7], line 1\u001b[0m\n\u001b[0;32m----> 1\u001b[0m fc \u001b[38;5;241m=\u001b[39m FireflyClient\u001b[38;5;241m.\u001b[39mmake_lab_client() \u001b[38;5;28;01mif\u001b[39;00m using_lab \u001b[38;5;28;01melse\u001b[39;00m \u001b[43mFireflyClient\u001b[49m\u001b[38;5;241;43m.\u001b[39;49m\u001b[43mmake_client\u001b[49m\u001b[43m(\u001b[49m\u001b[43murl\u001b[49m\u001b[43m)\u001b[49m\n",
      "File \u001b[0;32m~/dev/cm/firefly_client/firefly_client/firefly_client.py:216\u001b[0m, in \u001b[0;36mFireflyClient.make_client\u001b[0;34m(cls, url, html_file, launch_browser, channel_override, verbose, token, viewer_override)\u001b[0m\n\u001b[1;32m    168\u001b[0m \u001b[38;5;129m@classmethod\u001b[39m\n\u001b[1;32m    169\u001b[0m \u001b[38;5;28;01mdef\u001b[39;00m \u001b[38;5;21mmake_client\u001b[39m(\u001b[38;5;28mcls\u001b[39m, url\u001b[38;5;241m=\u001b[39m_default_url, html_file\u001b[38;5;241m=\u001b[39m_def_html_file, launch_browser\u001b[38;5;241m=\u001b[39m\u001b[38;5;28;01mTrue\u001b[39;00m,\n\u001b[1;32m    170\u001b[0m                 channel_override\u001b[38;5;241m=\u001b[39m\u001b[38;5;28;01mNone\u001b[39;00m, verbose\u001b[38;5;241m=\u001b[39m\u001b[38;5;28;01mFalse\u001b[39;00m, token\u001b[38;5;241m=\u001b[39m\u001b[38;5;28;01mNone\u001b[39;00m, viewer_override\u001b[38;5;241m=\u001b[39m\u001b[38;5;28;01mNone\u001b[39;00m):\n\u001b[1;32m    171\u001b[0m \u001b[38;5;250m    \u001b[39m\u001b[38;5;124;03m\"\"\"\u001b[39;00m\n\u001b[1;32m    172\u001b[0m \u001b[38;5;124;03m    Factory method to create a Firefly client in a plain Python, IPython, or\u001b[39;00m\n\u001b[1;32m    173\u001b[0m \u001b[38;5;124;03m    notebook session, and attempt to open a display.  If a display cannot be\u001b[39;00m\n\u001b[0;32m   (...)\u001b[0m\n\u001b[1;32m    214\u001b[0m \u001b[38;5;124;03m        A FireflyClient that works in the lab environment\u001b[39;00m\n\u001b[1;32m    215\u001b[0m \u001b[38;5;124;03m    \"\"\"\u001b[39;00m\n\u001b[0;32m--> 216\u001b[0m     fc \u001b[38;5;241m=\u001b[39m \u001b[38;5;28;43mcls\u001b[39;49m\u001b[43m(\u001b[49m\u001b[43murl\u001b[49m\u001b[43m,\u001b[49m\u001b[43m \u001b[49m\u001b[43mEnv\u001b[49m\u001b[38;5;241;43m.\u001b[39;49m\u001b[43mresolve_client_channel\u001b[49m\u001b[43m(\u001b[49m\u001b[43mchannel_override\u001b[49m\u001b[43m)\u001b[49m\u001b[43m,\u001b[49m\u001b[43m \u001b[49m\u001b[43mhtml_file\u001b[49m\u001b[43m,\u001b[49m\u001b[43m \u001b[49m\u001b[43mtoken\u001b[49m\u001b[43m,\u001b[49m\u001b[43m \u001b[49m\u001b[43mviewer_override\u001b[49m\u001b[43m)\u001b[49m\n\u001b[1;32m    217\u001b[0m     verbose \u001b[38;5;129;01mand\u001b[39;00m Env\u001b[38;5;241m.\u001b[39mshow_start_browser_tab_msg(fc\u001b[38;5;241m.\u001b[39mget_firefly_url())\n\u001b[1;32m    218\u001b[0m     launch_browser \u001b[38;5;129;01mand\u001b[39;00m fc\u001b[38;5;241m.\u001b[39mlaunch_browser()\n",
      "File \u001b[0;32m~/dev/cm/firefly_client/firefly_client/firefly_client.py:261\u001b[0m, in \u001b[0;36mFireflyClient.__init__\u001b[0;34m(self, url, channel, html_file, token, viewer_override)\u001b[0m\n\u001b[1;32m    253\u001b[0m     url_err_msg \u001b[38;5;241m=\u001b[39m Env\u001b[38;5;241m.\u001b[39mfailed_net_message(url, access[\u001b[38;5;124m'\u001b[39m\u001b[38;5;124mresponse\u001b[39m\u001b[38;5;124m'\u001b[39m]\u001b[38;5;241m.\u001b[39mstatus_code)\n\u001b[1;32m    254\u001b[0m     token_err_msg \u001b[38;5;241m=\u001b[39m (\n\u001b[1;32m    255\u001b[0m         \u001b[38;5;124m'\u001b[39m\u001b[38;5;124mCheck if the passed `token` is valid and has the necessary \u001b[39m\u001b[38;5;124m'\u001b[39m\n\u001b[1;32m    256\u001b[0m         \u001b[38;5;124m'\u001b[39m\u001b[38;5;124mauthorization to access the above URL.\u001b[39m\u001b[38;5;124m'\u001b[39m\n\u001b[0;32m   (...)\u001b[0m\n\u001b[1;32m    259\u001b[0m         \u001b[38;5;124m'\u001b[39m\u001b[38;5;124mthe `token` parameter must be passed.\u001b[39m\u001b[38;5;124m'\u001b[39m\n\u001b[1;32m    260\u001b[0m     )\n\u001b[0;32m--> 261\u001b[0m     \u001b[38;5;28;01mraise\u001b[39;00m \u001b[38;5;167;01mValueError\u001b[39;00m(\u001b[38;5;124mf\u001b[39m\u001b[38;5;124m'\u001b[39m\u001b[38;5;132;01m{\u001b[39;00murl_err_msg\u001b[38;5;132;01m}\u001b[39;00m\u001b[38;5;130;01m\\n\u001b[39;00m\u001b[38;5;130;01m\\n\u001b[39;00m\u001b[38;5;132;01m{\u001b[39;00mtoken_err_msg\u001b[38;5;132;01m}\u001b[39;00m\u001b[38;5;124m'\u001b[39m)\n\u001b[1;32m    262\u001b[0m debug(\u001b[38;5;124mf\u001b[39m\u001b[38;5;124m'\u001b[39m\u001b[38;5;124mnew instance: \u001b[39m\u001b[38;5;132;01m{\u001b[39;00murl\u001b[38;5;132;01m}\u001b[39;00m\u001b[38;5;124m'\u001b[39m)\n",
      "\u001b[0;31mValueError\u001b[0m: Connection failed to URL https://data-int.lsst.cloud/portal/app/ with status: 302\nYou may want to check the URL with your web browser.\n\nCheck if the Firefly URL is correct, which is passed as a parameter.\n\nIf an authorization token is required to access the above URL, the `token` parameter must be passed."
     ]
    }
   ],
   "source": [
    "fc = FireflyClient.make_lab_client() if using_lab else FireflyClient.make_client(url)"
   ]
  },
  {
   "cell_type": "markdown",
   "id": "e38321cb",
   "metadata": {},
   "source": [
    "## Invalid token"
   ]
  },
  {
   "cell_type": "code",
   "execution_count": 8,
   "id": "aaa5ff12",
   "metadata": {},
   "outputs": [],
   "source": [
    "token = 'invalid_lsst_token'"
   ]
  },
  {
   "cell_type": "code",
   "execution_count": 9,
   "id": "4483f122",
   "metadata": {},
   "outputs": [
    {
     "data": {
      "text/plain": [
       "{'success': False, 'response': <Response [302]>}"
      ]
     },
     "execution_count": 9,
     "metadata": {},
     "output_type": "execute_result"
    }
   ],
   "source": [
    "FireflyClient.confirm_access(url, token)"
   ]
  },
  {
   "cell_type": "code",
   "execution_count": 10,
   "id": "1f42031c",
   "metadata": {},
   "outputs": [
    {
     "ename": "ValueError",
     "evalue": "Connection failed to URL https://data-int.lsst.cloud/portal/app/ with status: 302\nYou may want to check the URL with your web browser.\n\nCheck if the Firefly URL is correct, which is passed as a parameter.\n\nCheck if the passed `token` is valid and has the necessary authorization to access the above URL.",
     "output_type": "error",
     "traceback": [
      "\u001b[0;31m---------------------------------------------------------------------------\u001b[0m",
      "\u001b[0;31mValueError\u001b[0m                                Traceback (most recent call last)",
      "Cell \u001b[0;32mIn[10], line 1\u001b[0m\n\u001b[0;32m----> 1\u001b[0m fc \u001b[38;5;241m=\u001b[39m FireflyClient\u001b[38;5;241m.\u001b[39mmake_lab_client(token\u001b[38;5;241m=\u001b[39mtoken) \u001b[38;5;28;01mif\u001b[39;00m using_lab \u001b[38;5;28;01melse\u001b[39;00m \u001b[43mFireflyClient\u001b[49m\u001b[38;5;241;43m.\u001b[39;49m\u001b[43mmake_client\u001b[49m\u001b[43m(\u001b[49m\u001b[43murl\u001b[49m\u001b[43m,\u001b[49m\u001b[43m \u001b[49m\u001b[43mtoken\u001b[49m\u001b[38;5;241;43m=\u001b[39;49m\u001b[43mtoken\u001b[49m\u001b[43m)\u001b[49m\n",
      "File \u001b[0;32m~/dev/cm/firefly_client/firefly_client/firefly_client.py:216\u001b[0m, in \u001b[0;36mFireflyClient.make_client\u001b[0;34m(cls, url, html_file, launch_browser, channel_override, verbose, token, viewer_override)\u001b[0m\n\u001b[1;32m    168\u001b[0m \u001b[38;5;129m@classmethod\u001b[39m\n\u001b[1;32m    169\u001b[0m \u001b[38;5;28;01mdef\u001b[39;00m \u001b[38;5;21mmake_client\u001b[39m(\u001b[38;5;28mcls\u001b[39m, url\u001b[38;5;241m=\u001b[39m_default_url, html_file\u001b[38;5;241m=\u001b[39m_def_html_file, launch_browser\u001b[38;5;241m=\u001b[39m\u001b[38;5;28;01mTrue\u001b[39;00m,\n\u001b[1;32m    170\u001b[0m                 channel_override\u001b[38;5;241m=\u001b[39m\u001b[38;5;28;01mNone\u001b[39;00m, verbose\u001b[38;5;241m=\u001b[39m\u001b[38;5;28;01mFalse\u001b[39;00m, token\u001b[38;5;241m=\u001b[39m\u001b[38;5;28;01mNone\u001b[39;00m, viewer_override\u001b[38;5;241m=\u001b[39m\u001b[38;5;28;01mNone\u001b[39;00m):\n\u001b[1;32m    171\u001b[0m \u001b[38;5;250m    \u001b[39m\u001b[38;5;124;03m\"\"\"\u001b[39;00m\n\u001b[1;32m    172\u001b[0m \u001b[38;5;124;03m    Factory method to create a Firefly client in a plain Python, IPython, or\u001b[39;00m\n\u001b[1;32m    173\u001b[0m \u001b[38;5;124;03m    notebook session, and attempt to open a display.  If a display cannot be\u001b[39;00m\n\u001b[0;32m   (...)\u001b[0m\n\u001b[1;32m    214\u001b[0m \u001b[38;5;124;03m        A FireflyClient that works in the lab environment\u001b[39;00m\n\u001b[1;32m    215\u001b[0m \u001b[38;5;124;03m    \"\"\"\u001b[39;00m\n\u001b[0;32m--> 216\u001b[0m     fc \u001b[38;5;241m=\u001b[39m \u001b[38;5;28;43mcls\u001b[39;49m\u001b[43m(\u001b[49m\u001b[43murl\u001b[49m\u001b[43m,\u001b[49m\u001b[43m \u001b[49m\u001b[43mEnv\u001b[49m\u001b[38;5;241;43m.\u001b[39;49m\u001b[43mresolve_client_channel\u001b[49m\u001b[43m(\u001b[49m\u001b[43mchannel_override\u001b[49m\u001b[43m)\u001b[49m\u001b[43m,\u001b[49m\u001b[43m \u001b[49m\u001b[43mhtml_file\u001b[49m\u001b[43m,\u001b[49m\u001b[43m \u001b[49m\u001b[43mtoken\u001b[49m\u001b[43m,\u001b[49m\u001b[43m \u001b[49m\u001b[43mviewer_override\u001b[49m\u001b[43m)\u001b[49m\n\u001b[1;32m    217\u001b[0m     verbose \u001b[38;5;129;01mand\u001b[39;00m Env\u001b[38;5;241m.\u001b[39mshow_start_browser_tab_msg(fc\u001b[38;5;241m.\u001b[39mget_firefly_url())\n\u001b[1;32m    218\u001b[0m     launch_browser \u001b[38;5;129;01mand\u001b[39;00m fc\u001b[38;5;241m.\u001b[39mlaunch_browser()\n",
      "File \u001b[0;32m~/dev/cm/firefly_client/firefly_client/firefly_client.py:261\u001b[0m, in \u001b[0;36mFireflyClient.__init__\u001b[0;34m(self, url, channel, html_file, token, viewer_override)\u001b[0m\n\u001b[1;32m    253\u001b[0m     url_err_msg \u001b[38;5;241m=\u001b[39m Env\u001b[38;5;241m.\u001b[39mfailed_net_message(url, access[\u001b[38;5;124m'\u001b[39m\u001b[38;5;124mresponse\u001b[39m\u001b[38;5;124m'\u001b[39m]\u001b[38;5;241m.\u001b[39mstatus_code)\n\u001b[1;32m    254\u001b[0m     token_err_msg \u001b[38;5;241m=\u001b[39m (\n\u001b[1;32m    255\u001b[0m         \u001b[38;5;124m'\u001b[39m\u001b[38;5;124mCheck if the passed `token` is valid and has the necessary \u001b[39m\u001b[38;5;124m'\u001b[39m\n\u001b[1;32m    256\u001b[0m         \u001b[38;5;124m'\u001b[39m\u001b[38;5;124mauthorization to access the above URL.\u001b[39m\u001b[38;5;124m'\u001b[39m\n\u001b[0;32m   (...)\u001b[0m\n\u001b[1;32m    259\u001b[0m         \u001b[38;5;124m'\u001b[39m\u001b[38;5;124mthe `token` parameter must be passed.\u001b[39m\u001b[38;5;124m'\u001b[39m\n\u001b[1;32m    260\u001b[0m     )\n\u001b[0;32m--> 261\u001b[0m     \u001b[38;5;28;01mraise\u001b[39;00m \u001b[38;5;167;01mValueError\u001b[39;00m(\u001b[38;5;124mf\u001b[39m\u001b[38;5;124m'\u001b[39m\u001b[38;5;132;01m{\u001b[39;00murl_err_msg\u001b[38;5;132;01m}\u001b[39;00m\u001b[38;5;130;01m\\n\u001b[39;00m\u001b[38;5;130;01m\\n\u001b[39;00m\u001b[38;5;132;01m{\u001b[39;00mtoken_err_msg\u001b[38;5;132;01m}\u001b[39;00m\u001b[38;5;124m'\u001b[39m)\n\u001b[1;32m    262\u001b[0m debug(\u001b[38;5;124mf\u001b[39m\u001b[38;5;124m'\u001b[39m\u001b[38;5;124mnew instance: \u001b[39m\u001b[38;5;132;01m{\u001b[39;00murl\u001b[38;5;132;01m}\u001b[39;00m\u001b[38;5;124m'\u001b[39m)\n",
      "\u001b[0;31mValueError\u001b[0m: Connection failed to URL https://data-int.lsst.cloud/portal/app/ with status: 302\nYou may want to check the URL with your web browser.\n\nCheck if the Firefly URL is correct, which is passed as a parameter.\n\nCheck if the passed `token` is valid and has the necessary authorization to access the above URL."
     ]
    }
   ],
   "source": [
    "fc = FireflyClient.make_lab_client(token=token) if using_lab else FireflyClient.make_client(url, token=token)"
   ]
  },
  {
   "cell_type": "markdown",
   "id": "0478d21a",
   "metadata": {},
   "source": [
    "## Valid token"
   ]
  },
  {
   "cell_type": "code",
   "execution_count": null,
   "id": "f4e5d7ad",
   "metadata": {},
   "outputs": [],
   "source": [
    "token = os.environ['ACCESS_TOKEN'] # token must be set in environment don't hardcode it here"
   ]
  },
  {
   "cell_type": "code",
   "execution_count": 13,
   "id": "d4e00c0f",
   "metadata": {},
   "outputs": [
    {
     "data": {
      "text/plain": [
       "{'success': True, 'response': <Response [200]>}"
      ]
     },
     "execution_count": 13,
     "metadata": {},
     "output_type": "execute_result"
    }
   ],
   "source": [
    "FireflyClient.confirm_access(url, token)"
   ]
  },
  {
   "cell_type": "code",
   "execution_count": 14,
   "id": "69730712",
   "metadata": {},
   "outputs": [],
   "source": [
    "fc = FireflyClient.make_lab_client(token=token) if using_lab else FireflyClient.make_client(url, token=token)"
   ]
  },
  {
   "cell_type": "code",
   "execution_count": null,
   "id": "85a3e941",
   "metadata": {},
   "outputs": [],
   "source": []
  }
 ],
 "metadata": {
  "kernelspec": {
   "display_name": "ffpy",
   "language": "python",
   "name": "python3"
  },
  "language_info": {
   "codemirror_mode": {
    "name": "ipython",
    "version": 3
   },
   "file_extension": ".py",
   "mimetype": "text/x-python",
   "name": "python",
   "nbconvert_exporter": "python",
   "pygments_lexer": "ipython3",
   "version": "3.12.5"
  }
 },
 "nbformat": 4,
 "nbformat_minor": 5
}
